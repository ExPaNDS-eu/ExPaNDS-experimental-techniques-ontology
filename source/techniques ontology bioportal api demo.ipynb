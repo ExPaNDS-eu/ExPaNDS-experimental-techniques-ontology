{
 "cells": [
  {
   "cell_type": "markdown",
   "metadata": {},
   "source": [
    "# Example use of the Bioportal API to access the PANET techniques ontology\n",
    "## This is probably not the latest version of the ontology but illustrates a small part of the API functionality\n",
    "## Note that an API key is required. This can be found in your account settings when you log on to bioportal: https://bioportal.bioontology.org/\n"
   ]
  },
  {
   "cell_type": "code",
   "execution_count": 1,
   "metadata": {},
   "outputs": [],
   "source": [
    "api_key = 'my api key' # insert your api key\n",
    "\n",
    "import urllib.request, urllib.error, urllib.parse\n",
    "import json\n",
    "import os\n",
    "from pprint import pprint"
   ]
  },
  {
   "cell_type": "markdown",
   "metadata": {},
   "source": [
    "## Find all terms in the ontology and show PID and label"
   ]
  },
  {
   "cell_type": "code",
   "execution_count": 2,
   "metadata": {},
   "outputs": [
    {
     "name": "stdout",
     "output_type": "stream",
     "text": [
      "http://data.bioontology.org/ontologies/PANET/classes/\n",
      "https://data.bioontology.org/ontologies/PANET/classes/?page=2\n",
      "https://data.bioontology.org/ontologies/PANET/classes/?page=3\n",
      "ExPaNDS:obtain_crystal_structure :\t obtain crystal structure\n",
      "ExPaNDS:fluorescence_luminescence :\t fluorescence luminescence\n",
      "ExPaNDS:versus_sample_electric_field :\t versus sample electric field\n",
      "ExPaNDS:hard_x-ray_probe :\t hard x-ray probe\n",
      "ExPaNDS:versus_emission_momentum :\t versus emission momentum\n",
      "ExPaNDS:atomic_scale_diffraction_3D_volume_3D_periodic :\t atomic scale diffraction 3D volume 3D periodic\n",
      "ExPaNDS:obtain_3D_spatial_map :\t obtain 3D spatial map\n",
      "ExPaNDS:neutron_powder_diffraction :\t neutron powder diffraction\n",
      "ExPaNDS:versus_emitted_energy :\t versus emitted energy\n",
      "ExPaNDS:high_momentum_transfer_resolution_scattering :\t high momentum transfer resolution scattering\n",
      "ExPaNDS:magnetism_technique :\t magnetism technique\n",
      "ExPaNDS:cold_neutron_probe :\t cold neutron probe\n",
      "ExPaNDS:incoherent_scattering :\t incoherent scattering\n",
      "ExPaNDS:characterize_magnetic_excitations :\t characterize magnetic excitations\n",
      "http://purl.obolibrary.org/obo/BFO_0000015 :\t process\n",
      "ExPaNDS:UV_photon_probe :\t UV photon probe\n",
      "ExPaNDS:diffraction :\t diffraction\n",
      "ExPaNDS:photon_probe :\t photon probe\n",
      "ExPaNDS:x-ray_emission_technique :\t x-ray emission technique\n",
      "ExPaNDS:obtain_atomic_magnetic_structure :\t obtain atomic magnetic structure\n",
      "ExPaNDS:versus_polarization :\t versus polarization\n",
      "ExPaNDS:visible_photon_probe :\t visible photon probe\n",
      "ExPaNDS:neutron_probe :\t neutron probe\n",
      "ExPaNDS:functional_dependence :\t functional dependence\n",
      "ExPaNDS:gamma_spectroscopy :\t gamma spectroscopy\n",
      "http://purl.obolibrary.org/obo/CHMO_0000182 :\t CHMO_0000182\n",
      "ExPaNDS:grazing_incidence_diffraction :\t grazing incidence diffraction\n",
      "ExPaNDS:angle_resolved_photoemission_spectroscopy :\t angle resolved photoemission spectroscopy\n",
      "ExPaNDS:versus_sample_temperature :\t versus sample temperature\n",
      "ExPaNDS:UV_visible_photon_probe :\t UV visible photon probe\n",
      "ExPaNDS:versus_sample_magnetic_field :\t versus sample magnetic field\n",
      "ExPaNDS:low_momentum_transfer_scattering :\t low momentum transfer scattering\n",
      "ExPaNDS:atomic_scale_diffraction :\t atomic scale diffraction\n",
      "ExPaNDS:obtain_electronic_ground_state_properties :\t obtain electronic ground state properties\n",
      "ExPaNDS:time_dependent_study :\t time dependent study\n",
      "ExPaNDS:dichroism :\t dichroism\n",
      "ExPaNDS:experimental_physical_process :\t experimental physical process\n",
      "ExPaNDS:versus_photon_linear_polarization :\t versus photon linear polarization\n",
      "ExPaNDS:obtain_atomic_tensor_properties :\t obtain atomic tensor properties\n",
      "ExPaNDS:obtain_electronic_density_of_unoccupied_states :\t obtain electronic density of unoccupied states\n",
      "ExPaNDS:muon_spin_resonance :\t muon spin resonance\n",
      "ExPaNDS:soft_x-ray_probe :\t soft x-ray probe\n",
      "ExPaNDS:versus_time :\t versus time\n",
      "ExPaNDS:absorption_technique :\t absorption technique\n",
      "ExPaNDS:photon_and_neutron_technique :\t photon and neutron technique\n",
      "ExPaNDS:obtain_charge_quadrupole :\t obtain charge quadrupole\n",
      "ExPaNDS:micro_scale_diffraction :\t micro scale diffraction\n",
      "ExPaNDS:verus_position :\t verus position\n",
      "ExPaNDS:photon_emission_technique :\t photon emission technique\n",
      "ExPaNDS:atomic_scale_diffraction_3D_volume :\t atomic scale diffraction 3D volume\n",
      "ExPaNDS:obtain_magnetic_vector :\t obtain magnetic vector\n",
      "ExPaNDS:fluorescence_tomography :\t fluorescence tomography\n",
      "ExPaNDS:elastic_scattering :\t elastic scattering\n",
      "ExPaNDS:versus_incident_energy :\t versus incident energy\n",
      "ExPaNDS:electron_emission_technique :\t electron emission technique\n",
      "http://purl.obolibrary.org/obo/BFO_0000001 :\t entity\n",
      "ExPaNDS:x-ray_single_crystal_diffraction :\t x-ray single crystal diffraction\n",
      "ExPaNDS:grazing_incidence_SAS :\t grazing incidence SAS\n",
      "http://purl.obolibrary.org/obo/OBI_0000011 :\t planned process\n",
      "ExPaNDS:versus_sample_pressure :\t versus sample pressure\n",
      "ExPaNDS:x-ray_fluorescence_spectroscopy :\t x-ray fluorescence spectroscopy\n",
      "ExPaNDS:versus_energy :\t versus energy\n",
      "ExPaNDS:experimental_probe :\t experimental probe\n",
      "ExPaNDS:resonance_phenomenon :\t resonance phenomenon\n",
      "ExPaNDS:electronic_excitation :\t electronic excitation\n",
      "ExPaNDS:thermal_neutron_probe :\t thermal neutron probe\n",
      "ExPaNDS:technique_purpose :\t technique purpose\n",
      "ExPaNDS:obtain_spatial_map :\t obtain spatial map\n",
      "ExPaNDS:emission_technique :\t emission technique\n",
      "ExPaNDS:obtain_charge_density :\t obtain charge density\n",
      "ExPaNDS:hot_neutron_probe :\t hot neutron probe\n",
      "ExPaNDS:obtain_magnetic_density :\t obtain magnetic density\n",
      "ExPaNDS:refraction_technique :\t refraction technique\n",
      "ExPaNDS:obtain_high_resolution_spatial_map :\t obtain high resolution spatial map\n",
      "ExPaNDS:emission_spectroscopy :\t emission spectroscopy\n",
      "http://purl.obolibrary.org/obo/BFO_0000003 :\t occurrent\n",
      "http://purl.obolibrary.org/obo/OBI_0000070 :\t assay\n",
      "ExPaNDS:characterize_electronic_excitations :\t characterize electronic excitations\n",
      "ExPaNDS:powder_diffraction :\t powder diffraction\n",
      "ExPaNDS:high_momentum_transfer_scattering :\t high momentum transfer scattering\n",
      "ExPaNDS:characterize_excitations :\t characterize excitations\n",
      "ExPaNDS:characterize_lattice_excitations :\t characterize lattice excitations\n",
      "ExPaNDS:reference_beam :\t reference beam\n",
      "ExPaNDS:visible_photon_emission_technique :\t visible photon emission technique\n",
      "ExPaNDS:pulsed_neutron_TOF_probe :\t pulsed neutron TOF probe\n",
      "ExPaNDS:obtain_local_coordination :\t obtain local coordination\n",
      "ExPaNDS:absorption_contrast_imaging :\t absorption contrast imaging\n",
      "ExPaNDS:versus_photon_circlar_polarization :\t versus photon circlar polarization\n",
      "ExPaNDS:versus_sample_state :\t versus sample state\n",
      "ExPaNDS:gamma-ray_emission_techique :\t gamma-ray emission techique\n",
      "ExPaNDS:scattering_technique :\t scattering technique\n",
      "ExPaNDS:atomic_core_excitation :\t atomic core excitation\n",
      "ExPaNDS:obtain_dynamics :\t obtain dynamics\n",
      "ExPaNDS:spin_echo_technique :\t spin echo technique\n",
      "ExPaNDS:x-ray_probe :\t x-ray probe\n",
      "ExPaNDS:low_surface_momentum_transfer_scattering :\t low surface momentum transfer scattering\n",
      "ExPaNDS:IR_photon_probe :\t IR photon probe\n",
      "ExPaNDS:single_crystal_diffraction :\t single crystal diffraction\n",
      "ExPaNDS:obtain_atomic_structure :\t obtain atomic structure\n",
      "ExPaNDS:muon_probe :\t muon probe\n",
      "ExPaNDS:atomic_scale_diffraction_2D_surface_or_film :\t atomic scale diffraction 2D surface or film\n",
      "ExPaNDS:obtain_electronic_band_structure :\t obtain electronic band structure\n",
      "ExPaNDS:versus_energy_loss :\t versus energy loss\n",
      "ExPaNDS:monochromatic_neutron_probe :\t monochromatic neutron probe\n",
      "ExPaNDS:obtain_electronic_density_of_occupied_states :\t obtain electronic density of occupied states\n",
      "ExPaNDS:inelastic_scattering :\t inelastic scattering\n",
      "ExPaNDS:photoemission_spectroscopy :\t photoemission spectroscopy\n",
      "ExPaNDS:VUV_photon_probe :\t VUV photon probe\n",
      "ExPaNDS:reflection_technique :\t reflection technique\n",
      "ExPaNDS:scanning_probe :\t scanning probe\n",
      "ExPaNDS:obtain_electronic_density_of_states :\t obtain electronic density of states\n"
     ]
    }
   ],
   "source": [
    "### look at PANET ontology - all classes\n",
    "\n",
    "API_KEY = api_key\n",
    "\n",
    "def get_json(url):\n",
    "    opener = urllib.request.build_opener()\n",
    "    opener.addheaders = [('Authorization', 'apikey token=' + API_KEY)]\n",
    "    return json.loads(opener.open(url).read())\n",
    "\n",
    "# Get the available resources - PANET classes\n",
    "REST_URL = 'http://data.bioontology.org/ontologies/PANET/classes'\n",
    "\n",
    "\n",
    "collection = []  \n",
    "nextpage = REST_URL+ \"/\"\n",
    "\n",
    "while not nextpage == None:\n",
    "    print(nextpage)\n",
    "    class_resources = get_json(nextpage)\n",
    "    collection += class_resources['collection']\n",
    "    nextpage = class_resources['links']['nextPage']\n",
    "    \n",
    "\n",
    "for i in range(len(collection)):\n",
    "    print(collection[i]['@id'], ':\\t', collection[i]['prefLabel'])\n",
    "\n"
   ]
  },
  {
   "cell_type": "markdown",
   "metadata": {},
   "source": [
    "## Find children of a term, specified by label\n",
    "### Probably need to code this recursively unless this functionality is provided by the API"
   ]
  },
  {
   "cell_type": "code",
   "execution_count": 3,
   "metadata": {
    "scrolled": true
   },
   "outputs": [
    {
     "name": "stdout",
     "output_type": "stream",
     "text": [
      "Label: electronic excitation \t children label: atomic core excitation\n",
      "Label: characterize excitations \t children label: characterize electronic excitations\n",
      "Label: characterize excitations \t children label: characterize lattice excitations\n"
     ]
    },
    {
     "data": {
      "text/plain": [
       "['characterize electronic excitations', 'characterize lattice excitations']"
      ]
     },
     "execution_count": 3,
     "metadata": {},
     "output_type": "execute_result"
    }
   ],
   "source": [
    "def showRelatedLabels(label):\n",
    "    for i in range(len(collection)):\n",
    "        if label in collection[i]['prefLabel']:\n",
    "            class_url = collection[i]['links']['self']\n",
    "            \n",
    "            relationship = 'children' # returns dict of direct children - works OK\n",
    "            \n",
    "            new_url = get_json(class_url + \"/\")['links'][relationship]\n",
    "            \n",
    "            res = get_json(new_url + \"/\")\n",
    "\n",
    "            new_col = res['collection']\n",
    "            labels = []\n",
    "            for j in range(len(new_col)):\n",
    "                print('Label: %s \\t %s label: %s' % (label, relationship, new_col[j]['prefLabel']))\n",
    "                labels += [new_col[j]['prefLabel']]\n",
    "            return labels\n",
    "\n",
    "#showRelatedLabels('atomic core excitation')\n",
    "showRelatedLabels('electronic excitation')\n",
    "showRelatedLabels('characterize excitations')\n",
    "#showRelatedLabels('obtain dynamics')\n",
    "#showRelatedLabels('technique purpose')\n",
    "#showRelatedLabels('photon and neutron technique')\n",
    "#showRelatedLabels('OBI_0000070')\n"
   ]
  },
  {
   "cell_type": "code",
   "execution_count": null,
   "metadata": {},
   "outputs": [],
   "source": []
  }
 ],
 "metadata": {
  "kernelspec": {
   "display_name": "Python 3.8 [Conda DLS]",
   "language": "python",
   "name": "conda-env-Conda_DLS-python3.8"
  },
  "language_info": {
   "codemirror_mode": {
    "name": "ipython",
    "version": 3
   },
   "file_extension": ".py",
   "mimetype": "text/x-python",
   "name": "python",
   "nbconvert_exporter": "python",
   "pygments_lexer": "ipython3",
   "version": "3.8.0"
  }
 },
 "nbformat": 4,
 "nbformat_minor": 2
}

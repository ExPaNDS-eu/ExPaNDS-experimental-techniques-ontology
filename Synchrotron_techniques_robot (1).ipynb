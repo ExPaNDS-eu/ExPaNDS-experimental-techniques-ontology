{
 "cells": [
  {
   "cell_type": "markdown",
   "metadata": {},
   "source": [
    "See http://robot.obolibrary.org/python\n",
    "Robot can be controlled by the windows command line or python, the following code executes on windows command line\n",
    "A prerequisite for this code working is putting the JAR file in your windows system path see http://robot.obolibrary.org/\n",
    "See also https://fairplus.github.io/cookbook-dev/recipes/interoperability/ontology-robot/MSIO-robot-build-process.html\n",
    "Web tool for visualising the ontology as a graph http://www.visualdataweb.de/webvowl/"
   ]
  },
  {
   "cell_type": "code",
   "execution_count": 1,
   "metadata": {},
   "outputs": [
    {
     "name": "stdout",
     "output_type": "stream",
     "text": [
      "C:\\Users\\amin\n",
      "C:\\windows\n"
     ]
    }
   ],
   "source": [
    "import os\n",
    "cwd = os.getcwd()\n",
    "print(cwd)\n",
    "os.chdir('C:/windows')\n",
    "cwd = os.getcwd()\n",
    "print(cwd)"
   ]
  },
  {
   "cell_type": "code",
   "execution_count": 2,
   "metadata": {},
   "outputs": [
    {
     "data": {
      "text/plain": [
       "0"
      ]
     },
     "execution_count": 2,
     "metadata": {},
     "output_type": "execute_result"
    }
   ],
   "source": [
    "os.system('robot template --template synchrotron_techniques.csv --prefix \"ex: http://example.com/\" --ontology-iri \"https://www.diamond.ac.uk/\" --output \"D:/results/synchrotron_techniques.owl\"')"
   ]
  }
 ],
 "metadata": {
  "kernelspec": {
   "display_name": "Python [conda env:label_images]",
   "language": "python",
   "name": "conda-env-label_images-py"
  },
  "language_info": {
   "codemirror_mode": {
    "name": "ipython",
    "version": 3
   },
   "file_extension": ".py",
   "mimetype": "text/x-python",
   "name": "python",
   "nbconvert_exporter": "python",
   "pygments_lexer": "ipython3",
   "version": "3.6.8"
  }
 },
 "nbformat": 4,
 "nbformat_minor": 2
}

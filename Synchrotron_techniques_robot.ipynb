{
 "cells": [
  {
   "cell_type": "markdown",
   "metadata": {},
   "source": [
    "See http://robot.obolibrary.org/python\n",
    "Robot can be controlled by the windows command line or python, the following code executes on windows command line\n",
    "A prerequisite for this code working is putting the JAR file in your windows system path see http://robot.obolibrary.org/\n",
    "See also https://fairplus.github.io/cookbook-dev/recipes/interoperability/ontology-robot/MSIO-robot-build-process.html\n",
    "Web tool for visualising the ontology as a graph http://www.visualdataweb.de/webvowl/"
   ]
  },
  {
   "cell_type": "code",
   "execution_count": 1,
   "metadata": {},
   "outputs": [
    {
     "name": "stdout",
     "output_type": "stream",
     "text": [
      "C:\\Users\\amin\n",
      "C:\\windows\n"
     ]
    }
   ],
   "source": [
    "import os\n",
    "cwd = os.getcwd()\n",
    "print(cwd)\n",
    "os.chdir('C:/windows')\n",
    "cwd = os.getcwd()\n",
    "print(cwd)"
   ]
  },
  {
   "cell_type": "code",
   "execution_count": 2,
   "metadata": {},
   "outputs": [
    {
     "data": {
      "text/plain": [
       "0"
      ]
     },
     "execution_count": 2,
     "metadata": {},
     "output_type": "execute_result"
    }
   ],
   "source": [
    "os.system('robot template --template synchrotron_techniques.csv --prefix \"ex: http://example.com/\" --ontology-iri \"https://www.diamond.ac.uk/\" --output \"D:/results/synchrotron_techniques.owl\"')"
   ]
  },
  {
   "cell_type": "code",
   "execution_count": 7,
   "metadata": {},
   "outputs": [
    {
     "name": "stdout",
     "output_type": "stream",
     "text": [
      "curl -L http://purl.obolibrary.org/obo/duo.owl   > ./ontology-sources-test/duo.owl\n",
      "curl -L http://purl.obolibrary.org/obo/stato.owl > ./ontology-sources-test/stato.owl\n",
      "curl -L http://purl.obolibrary.org/obo/chmo.owl  > ./ontology-sources-test/chmo.owl\n",
      "curl -L http://purl.obolibrary.org/obo/iao.owl   > ./ontology-sources-test/iao.owl\n",
      "curl -L http://purl.obolibrary.org/obo/obi.owl   > ./ontology-sources-test/obi.owl\n",
      "curl -L http://purl.obolibrary.org/obo/ms.owl    > ./ontology-sources-test/ms.owl\n",
      "curl -L https://raw.githubusercontent.com/MSI-Metabolomics-Standards-Initiative/nmrcv/master/nmrCV-corrected-namespace.owl > ./ontology-sources-test/nmrcv.owl\n",
      "curl -L http://purl.obolibrary.org/obo/chebi.owl > ./ontology-sources-test/chebi.owl\n",
      "curl -L http://purl.obolibrary.org/obo/uo.owl    > ./ontology-sources-test/uo.owl\n",
      "curl -L http://purl.obolibrary.org/obo/stato.owl > ./ontology-sources-test/stato.owl\n"
     ]
    }
   ],
   "source": [
    "ontoresource_dir=\"ontology-sources-test\"\n",
    "if not os.path.exists(ontoresource_dir):\n",
    "    os.makedirs(ontoresource_dir)\n",
    "else:\n",
    "    for resource in resources:\n",
    "        try:\n",
    "            print(resource)\n",
    "            os.system(resource)\n",
    "        except IOError as ieo_curl:\n",
    "            print(ioe_curl)"
   ]
  },
  {
   "cell_type": "code",
   "execution_count": null,
   "metadata": {},
   "outputs": [],
   "source": [
    "onto_outputdir=\"ontology-msio-build-modules\"\n",
    "\n",
    "extractors=[\n",
    "\"java -jar ./robot_jar/robot.jar extract --method MIREOT --input ./ontology-sources-test/chebi.owl --upper-terms ./ontology-select-classes/chebi-upper-terms.txt --lower-terms ./ontology-select-classes/chebi-lower-terms.txt --intermediates none --imports exclude --copy-ontology-annotations true --output ./ontology-msio-build-modules/chebi_mireot_module.owl\",\n",
    "\"java -jar ./robot_jar/robot.jar extract --method MIREOT --input ./ontology-sources-test/chmo.owl  --lower-terms ./ontology-select-classes/chmo-lower-terms.txt  --intermediates all --copy-ontology-annotations true --output ./ontology-msio-build-modules/chmo_mireot_module.owl\",\n",
    "\"java -jar ./robot_jar/robot.jar extract --method MIREOT --input ./ontology-sources-test/iao.owl   --lower-terms ./ontology-select-classes/iao-lower-terms.txt   --intermediates all --copy-ontology-annotations true --output ./ontology-msio-build-modules/iao_mireot_robot_module.owl\",\n",
    "\"java -jar ./robot_jar/robot.jar extract --method MIREOT --input ./ontology-sources-test/obi.owl   --lower-terms ./ontology-select-classes/obi-lower-terms.txt   --intermediates all --copy-ontology-annotations true --output ./ontology-msio-build-modules/obi_mireot_robot_module.owl\",\n",
    "\"java -jar ./robot_jar/robot.jar extract --method MIREOT --input ./ontology-sources-test/ms.owl --lower-terms ./ontology-select-classes/psims-lower-terms.txt --intermediates minimal --copy-ontology-annotations true --output ./ontology-msio-build-modules/psims_mireot_robot_module.owl\",\n",
    "\"java -jar ./robot_jar/robot.jar extract --method MIREOT --input ./ontology-sources-test/uo.owl    --lower-terms ./ontology-select-classes/uo-lower-terms.txt    --intermediates minimal --copy-ontology-annotations true --output ./ontology-msio-build-modules/uo_mireot_robot_module.owl\",\n",
    "\"java -jar ./robot_jar/robot.jar extract --method MIREOT --input ./ontology-sources-test/duo.owl   --lower-terms ./ontology-select-classes/duo-lower-terms.txt   --intermediates all --copy-ontology-annotations true --output ./ontology-msio-build-modules/duo_mireot_robot_module.owl\"\n",
    "] \n",
    "\n",
    "if not os.path.exists(onto_outputdir):\n",
    "    os.makedirs(onto_outputdir)\n",
    "else:\n",
    "    for extractor in extractors:\n",
    "        try:\n",
    "            print(extractor)\n",
    "            os.system(extractor)\n",
    "        except IOError as ioe:\n",
    "            print(ioe)    "
   ]
  },
  {
   "cell_type": "code",
   "execution_count": 6,
   "metadata": {},
   "outputs": [],
   "source": [
    "resources=[\n",
    "\"curl -L http://purl.obolibrary.org/obo/duo.owl   > ./ontology-sources-test/duo.owl\",\n",
    "\"curl -L http://purl.obolibrary.org/obo/stato.owl > ./ontology-sources-test/stato.owl\",\n",
    "\"curl -L http://purl.obolibrary.org/obo/chmo.owl  > ./ontology-sources-test/chmo.owl\",\n",
    "\"curl -L http://purl.obolibrary.org/obo/iao.owl   > ./ontology-sources-test/iao.owl\",\n",
    "\"curl -L http://purl.obolibrary.org/obo/obi.owl   > ./ontology-sources-test/obi.owl\",\n",
    "\"curl -L http://purl.obolibrary.org/obo/ms.owl    > ./ontology-sources-test/ms.owl\",\n",
    "\"curl -L https://raw.githubusercontent.com/MSI-Metabolomics-Standards-Initiative/nmrcv/master/nmrCV-corrected-namespace.owl > ./ontology-sources-test/nmrcv.owl\",\n",
    "\"curl -L http://purl.obolibrary.org/obo/chebi.owl > ./ontology-sources-test/chebi.owl\",\n",
    "\"curl -L http://purl.obolibrary.org/obo/uo.owl    > ./ontology-sources-test/uo.owl\",\n",
    "\"curl -L http://purl.obolibrary.org/obo/stato.owl > ./ontology-sources-test/stato.owl\"          \n",
    "]"
   ]
  },
  {
   "cell_type": "code",
   "execution_count": null,
   "metadata": {},
   "outputs": [],
   "source": []
  }
 ],
 "metadata": {
  "kernelspec": {
   "display_name": "Python [conda env:label_images]",
   "language": "python",
   "name": "conda-env-label_images-py"
  },
  "language_info": {
   "codemirror_mode": {
    "name": "ipython",
    "version": 3
   },
   "file_extension": ".py",
   "mimetype": "text/x-python",
   "name": "python",
   "nbconvert_exporter": "python",
   "pygments_lexer": "ipython3",
   "version": "3.6.8"
  }
 },
 "nbformat": 4,
 "nbformat_minor": 2
}
